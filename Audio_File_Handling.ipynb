{
  "nbformat": 4,
  "nbformat_minor": 0,
  "metadata": {
    "colab": {
      "provenance": []
    },
    "kernelspec": {
      "name": "python3",
      "display_name": "Python 3"
    },
    "language_info": {
      "name": "python"
    }
  },
  "cells": [
    {
      "cell_type": "markdown",
      "source": [
        "### Create a Python script that is able to convert a set of audio clips in MP3 format to WAV format and save it in the output folder mentioned. Argument 1 is the MP3 files folder and argument 2 is the destination folder where wav files are saved. "
      ],
      "metadata": {
        "id": "x-Ej355M_Q-V"
      }
    },
    {
      "cell_type": "code",
      "source": [
        "# Installing libraries\n",
        "!pip install pydub"
      ],
      "metadata": {
        "colab": {
          "base_uri": "https://localhost:8080/"
        },
        "id": "uwxK0WPX_YDD",
        "outputId": "237d5721-26a1-47d3-e4a7-eb4971f5f8ad"
      },
      "execution_count": 1,
      "outputs": [
        {
          "output_type": "stream",
          "name": "stdout",
          "text": [
            "Looking in indexes: https://pypi.org/simple, https://us-python.pkg.dev/colab-wheels/public/simple/\n",
            "Collecting pydub\n",
            "  Downloading pydub-0.25.1-py2.py3-none-any.whl (32 kB)\n",
            "Installing collected packages: pydub\n",
            "Successfully installed pydub-0.25.1\n"
          ]
        }
      ]
    },
    {
      "cell_type": "code",
      "execution_count": 2,
      "metadata": {
        "id": "YMPVCjih9jBN"
      },
      "outputs": [],
      "source": [
        "# Import libraries\n",
        "import os\n",
        "from pydub import AudioSegment"
      ]
    },
    {
      "cell_type": "code",
      "source": [
        "# Specify input and output directories\n",
        "input_dir = '/content/source'\n",
        "output_dir = '/content/target'"
      ],
      "metadata": {
        "id": "goSqU6XM9wi8"
      },
      "execution_count": 3,
      "outputs": []
    },
    {
      "cell_type": "code",
      "source": [
        "# Create output directory if it doesn't exist\n",
        "if not os.path.exists(output_dir):\n",
        "    os.makedirs(output_dir)"
      ],
      "metadata": {
        "id": "95GR7HQb9vHT"
      },
      "execution_count": 4,
      "outputs": []
    },
    {
      "cell_type": "code",
      "source": [
        "# Loop through all files in input directory\n",
        "for file in os.listdir(input_dir):\n",
        "    if file.endswith('.mp3'):\n",
        "        # Load MP3 file using pydub\n",
        "        mp3_file = os.path.join(input_dir, file)\n",
        "        sound = AudioSegment.from_mp3(mp3_file)\n",
        "        \n",
        "        # Create output file name and path\n",
        "        wav_file = os.path.splitext(file)[0] + '.wav'\n",
        "        wav_path = os.path.join(output_dir, wav_file)\n",
        "        \n",
        "        # Save WAV file to output directory\n",
        "        with open(wav_path, 'wb') as f:\n",
        "            sound.export(f, format='wav')\n",
        "        \n",
        "        print(f'\\nSource Path : {input_dir}')\n",
        "        print(f'\\nSource File : {file}')\n",
        "        print(f'\\nTarget File : {output_dir}')\n",
        "        print(f'\\nTarget Path : {wav_file}')\n",
        "        print(f'')\n",
        "        print(f'\\t-x-'*5)"
      ],
      "metadata": {
        "colab": {
          "base_uri": "https://localhost:8080/"
        },
        "id": "KwWtiXZS9tHE",
        "outputId": "bcb0c588-2662-4d8a-f3f0-5f6d1d33b527"
      },
      "execution_count": 16,
      "outputs": [
        {
          "output_type": "stream",
          "name": "stdout",
          "text": [
            "\n",
            "Source Path : /content/source\n",
            "\n",
            "Source File : sample_file_3.mp3\n",
            "\n",
            "Target File : /content/target\n",
            "\n",
            "Target Path : sample_file_3.wav\n",
            "\n",
            "\t-x-\t-x-\t-x-\t-x-\t-x-\n",
            "\n",
            "Source Path : /content/source\n",
            "\n",
            "Source File : sample_file_4.mp3\n",
            "\n",
            "Target File : /content/target\n",
            "\n",
            "Target Path : sample_file_4.wav\n",
            "\n",
            "\t-x-\t-x-\t-x-\t-x-\t-x-\n",
            "\n",
            "Source Path : /content/source\n",
            "\n",
            "Source File : sample_file_1.mp3\n",
            "\n",
            "Target File : /content/target\n",
            "\n",
            "Target Path : sample_file_1.wav\n",
            "\n",
            "\t-x-\t-x-\t-x-\t-x-\t-x-\n",
            "\n",
            "Source Path : /content/source\n",
            "\n",
            "Source File : sample_file_2.mp3\n",
            "\n",
            "Target File : /content/target\n",
            "\n",
            "Target Path : sample_file_2.wav\n",
            "\n",
            "\t-x-\t-x-\t-x-\t-x-\t-x-\n"
          ]
        }
      ]
    }
  ]
}